{
 "cells": [
  {
   "cell_type": "code",
   "execution_count": 45,
   "metadata": {},
   "outputs": [
    {
     "name": "stdout",
     "output_type": "stream",
     "text": [
      "Hi,I am thinking of a number between 1-10\n"
     ]
    },
    {
     "ename": "ValueError",
     "evalue": "invalid literal for int() with base 10: ''",
     "output_type": "error",
     "traceback": [
      "\u001b[0;31m---------------------------------------------------------------------------\u001b[0m",
      "\u001b[0;31mValueError\u001b[0m                                Traceback (most recent call last)",
      "Input \u001b[0;32mIn [45]\u001b[0m, in \u001b[0;36m<module>\u001b[0;34m\u001b[0m\n\u001b[1;32m      7\u001b[0m \u001b[38;5;28mprint\u001b[39m(\u001b[38;5;124m\"\u001b[39m\u001b[38;5;124mHi,\u001b[39m\u001b[38;5;124m\"\u001b[39m\u001b[38;5;241m+\u001b[39muser_input_name\u001b[38;5;241m+\u001b[39m\u001b[38;5;124m\"\u001b[39m\u001b[38;5;124mI am thinking of a number between 1-10\u001b[39m\u001b[38;5;124m\"\u001b[39m)\n\u001b[1;32m      8\u001b[0m user_input_number \u001b[38;5;241m=\u001b[39m \u001b[38;5;28minput\u001b[39m (\u001b[38;5;124m\"\u001b[39m\u001b[38;5;124mpick a number between 1-100\u001b[39m\u001b[38;5;124m\"\u001b[39m)\n\u001b[0;32m----> 9\u001b[0m into_int \u001b[38;5;241m=\u001b[39m \u001b[38;5;28;43mint\u001b[39;49m\u001b[43m(\u001b[49m\u001b[43muser_input_number\u001b[49m\u001b[43m)\u001b[49m\n\u001b[1;32m     12\u001b[0m number \u001b[38;5;241m=\u001b[39m random\u001b[38;5;241m.\u001b[39mrandint(\u001b[38;5;241m1\u001b[39m,\u001b[38;5;241m10\u001b[39m)\n\u001b[1;32m     13\u001b[0m \u001b[38;5;28;01mif\u001b[39;00m into_int \u001b[38;5;241m==\u001b[39m user_input_number:\n",
      "\u001b[0;31mValueError\u001b[0m: invalid literal for int() with base 10: ''"
     ]
    }
   ],
   "source": [
    "import random\n",
    "\n",
    "user_input_name = input(\"Hi! What is your name?\")\n",
    "print(\"Hi,\"+user_input_name+\"I am thinking of a number between 1-10\")\n",
    "user_input_number = input (\"pick a number between 1-100\")\n",
    "into_int = int(user_input_number)\n",
    "\n",
    "\n",
    "number = random.randint(1,10)\n",
    "\n",
    "\n",
    "if into_int == user_input_number:\n",
    "    print(\"Great job \" + user_input_name)\n",
    "else:\n",
    "    print(\"oh dear,better luck next time.\")\n"
   ]
  },
  {
   "cell_type": "code",
   "execution_count": 47,
   "metadata": {},
   "outputs": [
    {
     "name": "stdout",
     "output_type": "stream",
     "text": [
      "I hope you like cheesy dad jokes because I have got a few to tell you, but first pick a number betwee 1-100\n"
     ]
    },
    {
     "ename": "ValueError",
     "evalue": "invalid literal for int() with base 10: ''",
     "output_type": "error",
     "traceback": [
      "\u001b[0;31m---------------------------------------------------------------------------\u001b[0m",
      "\u001b[0;31mValueError\u001b[0m                                Traceback (most recent call last)",
      "Input \u001b[0;32mIn [47]\u001b[0m, in \u001b[0;36m<module>\u001b[0;34m\u001b[0m\n\u001b[1;32m      1\u001b[0m \u001b[38;5;28mprint\u001b[39m (\u001b[38;5;124m\"\u001b[39m\u001b[38;5;124mI hope you like cheesy dad jokes because I have got a few to tell you, but first pick a number betwee 1-100\u001b[39m\u001b[38;5;124m\"\u001b[39m)\n\u001b[1;32m      2\u001b[0m fav_num \u001b[38;5;241m=\u001b[39m \u001b[38;5;28minput\u001b[39m(\u001b[38;5;124m\"\u001b[39m\u001b[38;5;124mChoose a number\u001b[39m\u001b[38;5;124m\"\u001b[39m)\n\u001b[0;32m----> 3\u001b[0m into_int \u001b[38;5;241m=\u001b[39m \u001b[38;5;28;43mint\u001b[39;49m\u001b[43m(\u001b[49m\u001b[43mfav_num\u001b[49m\u001b[43m)\u001b[49m\n\u001b[1;32m      4\u001b[0m \u001b[38;5;28;01mif\u001b[39;00m fav_num \u001b[38;5;241m==\u001b[39m \u001b[38;5;241m6\u001b[39m:\n\u001b[1;32m      5\u001b[0m     \u001b[38;5;28mprint\u001b[39m (\u001b[38;5;124m\"\u001b[39m\u001b[38;5;124mwhy is six scared of seven? Because seven,eight,nine!\u001b[39m\u001b[38;5;124m\"\u001b[39m)\n",
      "\u001b[0;31mValueError\u001b[0m: invalid literal for int() with base 10: ''"
     ]
    }
   ],
   "source": [
    "\n",
    "print (\"I hope you like cheesy dad jokes because I have got a few to tell you, but first pick a number betwee 1-100\")\n",
    "fav_num = input(\"Choose a number\")\n",
    "into_int = int(fav_num)\n",
    "if fav_num == 6:\n",
    "    print (\"why is six scared of seven? Because seven,eight,nine!\")\n",
    "elseif: fav_num== 5\n",
    "print (\"A roman soldier walks into a bar, holds up two fingers and says five beers please\")\n",
    "elseif: fav_num == 10\n",
    "print (\"What is Serena William's favourite number? Ten is\")\n",
    "\n"
   ]
  },
  {
   "cell_type": "code",
   "execution_count": 48,
   "metadata": {},
   "outputs": [
    {
     "name": "stdout",
     "output_type": "stream",
     "text": [
      "You must be feeling peckish,lets go eat at Kyoto sushi and grill\n",
      "There you go, here's yourclassic maki rollswithchicken katsu ricevanilla and green tea ice creamandenjoy!\n"
     ]
    }
   ],
   "source": [
    "print (\"You must be feeling peckish,lets go eat at Kyoto sushi and grill\")\n",
    "user_input_starter = input (\"What do you want to get for a starter\")\n",
    "user_input_main = input (\"What do you want as a main course?\")\n",
    "user_input_dessert = input(\"pick a dessert\")\n",
    "user_input_drink = input(\"What mocktail would you like?\")\n",
    "\n",
    "user_input_starter = \"classic maki rolls\"\n",
    "user_input_main = \"chicken katsu rice\"\n",
    "user_input_dessert = \"vanilla and green tea ice cream\"\n",
    "\n",
    "\n",
    "print (\"There you go, here's your\" +user_input_starter+   \"with\"   +user_input_main+   user_input_dessert+   \"and\" \n",
    "  +user_input_drink+   \"enjoy!\") "
   ]
  },
  {
   "cell_type": "code",
   "execution_count": 49,
   "metadata": {},
   "outputs": [
    {
     "name": "stdout",
     "output_type": "stream",
     "text": [
      "the value of the bike is £ 2000\n",
      "the value of the bike is £ 1800.0\n",
      "the value of the bike is £ 1620.0\n",
      "the value of the bike is £ 1458.0\n",
      "the value of the bike is £ 1312.2\n",
      "the value of the bike is £ 1180.98\n",
      "the value of the bike is £ 1062.88\n"
     ]
    }
   ],
   "source": [
    "bike_value = 2000\n",
    "loss = 0.9\n",
    "\n",
    "i = 2000\n",
    "while i >= 1000:\n",
    "    print (\"the value of the bike is £\", i)\n",
    "    # i = i*0.9\n",
    "    i = round (i*0.9,2)\n"
   ]
  },
  {
   "cell_type": "code",
   "execution_count": null,
   "metadata": {},
   "outputs": [],
   "source": []
  }
 ],
 "metadata": {
  "interpreter": {
   "hash": "aee8b7b246df8f9039afb4144a1f6fd8d2ca17a180786b69acc140d282b71a49"
  },
  "kernelspec": {
   "display_name": "Python 3.10.2 64-bit",
   "language": "python",
   "name": "python3"
  },
  "language_info": {
   "codemirror_mode": {
    "name": "ipython",
    "version": 3
   },
   "file_extension": ".py",
   "mimetype": "text/x-python",
   "name": "python",
   "nbconvert_exporter": "python",
   "pygments_lexer": "ipython3",
   "version": "3.10.2"
  },
  "orig_nbformat": 4
 },
 "nbformat": 4,
 "nbformat_minor": 2
}
