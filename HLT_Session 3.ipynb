{
 "cells": [
  {
   "cell_type": "code",
   "execution_count": 8,
   "metadata": {},
   "outputs": [],
   "source": [
    "#Reading \n",
    "number_file = open(\"numbers_file.txt\",\"r\")\n",
    "\n",
    "number_file.close()"
   ]
  },
  {
   "cell_type": "code",
   "execution_count": 15,
   "metadata": {},
   "outputs": [],
   "source": [
    "#Writting \n",
    "number_file = open(\"test_.txt\", \"w\")\n",
    "\n",
    "number_file.write(\"3,45,83,21\\n\")\n",
    "\n",
    "number_file.close()"
   ]
  },
  {
   "cell_type": "code",
   "execution_count": 16,
   "metadata": {},
   "outputs": [],
   "source": [
    "#Appending \n",
    "number_file= open(\"test_.txt\", \"a\")\n",
    "\n",
    "number_file.write(\"locate file\\n\")\n",
    "\n",
    "number_file.close()"
   ]
  },
  {
   "cell_type": "code",
   "execution_count": 24,
   "metadata": {},
   "outputs": [
    {
     "name": "stdout",
     "output_type": "stream",
     "text": [
      "Your current grade is below your target grade, but there is space for improvement.\n"
     ]
    }
   ],
   "source": [
    "#Student grades\n",
    "current_grade = int(input(\"Enter current grade\"))\n",
    "target_grade = int(input(\"Enter target grade\"))\n",
    "\n",
    "def grade(current_grade,target_grade):\n",
    "    if (current_grade <=45): \n",
    "        grade = \"E\"\n",
    "    elif (current_grade > 40 and current_grade <50):\n",
    "        grade = \"D\"\n",
    "    elif (current_grade > 50 and current_grade <60):\n",
    "        grade = \"C\"\n",
    "    elif (current_grade >60 and current_grade <70):\n",
    "        grade = \"B\"\n",
    "    elif (current_grade > 70 and current_grade <80):\n",
    "        grade = \"A\"\n",
    "    elif (current_grade >80):\n",
    "        grade = \"A*\"\n",
    "    else:\n",
    "        print(\"F\")\n",
    "\n",
    "        return grade(current_grade,target_grade)\n",
    "\n",
    "if current_grade > target_grade:\n",
    "    print(\"Great job! Your current grade is above your target grade\")\n",
    "elif current_grade < target_grade:\n",
    "    print(\"Your current grade is below your target grade, but there is space for improvement.\")\n",
    "elif current_grade == target_grade:\n",
    "    print(\"Well done, you acheived your target grade\")\n",
    "\n"
   ]
  }
 ],
 "metadata": {
  "interpreter": {
   "hash": "aee8b7b246df8f9039afb4144a1f6fd8d2ca17a180786b69acc140d282b71a49"
  },
  "kernelspec": {
   "display_name": "Python 3.10.2 64-bit",
   "language": "python",
   "name": "python3"
  },
  "language_info": {
   "codemirror_mode": {
    "name": "ipython",
    "version": 3
   },
   "file_extension": ".py",
   "mimetype": "text/x-python",
   "name": "python",
   "nbconvert_exporter": "python",
   "pygments_lexer": "ipython3",
   "version": "3.10.2"
  },
  "orig_nbformat": 4
 },
 "nbformat": 4,
 "nbformat_minor": 2
}
