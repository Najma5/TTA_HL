{
 "cells": [
  {
   "cell_type": "code",
   "execution_count": 3,
   "metadata": {},
   "outputs": [],
   "source": [
    "import numpy as np"
   ]
  },
  {
   "cell_type": "code",
   "execution_count": 4,
   "metadata": {},
   "outputs": [
    {
     "name": "stdout",
     "output_type": "stream",
     "text": [
      "[1, 2, 3, 4, 5, 6, 7, 8, 9]\n",
      "[1 2 3 4 5 6 7 8 9]\n"
     ]
    }
   ],
   "source": [
    "#Create a 1D array of numbers from 0 to 9\n",
    "first_list = [1,2,3,4,5,6,7,8,9] #create list variable \n",
    "\n",
    "array = np.array([1,2,3,4,5,6,7,8,9]) #arrange into an array\n",
    "\n",
    "print(first_list)          #print old and new variables \n",
    "print(array)"
   ]
  },
  {
   "cell_type": "code",
   "execution_count": 6,
   "metadata": {},
   "outputs": [
    {
     "name": "stdout",
     "output_type": "stream",
     "text": [
      "[ True  True  True]\n"
     ]
    }
   ],
   "source": [
    "#Create a 3×3 NumPy array of all Boolean value Trues\n",
    "array_2 = np.array ([[3,3,3],[3,3,3],[3,3,3]])\n",
    "array_3 = np.array ([3,3,3], dtype=bool) \n",
    "print(array_3)"
   ]
  },
  {
   "cell_type": "code",
   "execution_count": 20,
   "metadata": {},
   "outputs": [
    {
     "name": "stdout",
     "output_type": "stream",
     "text": [
      "[ 1  2  3  4  5  6  7  8  9 10]\n",
      "[1, 3, 5, 7, 9]\n"
     ]
    }
   ],
   "source": [
    "#Extract all odd numbers from array of 1-10\n",
    "odd_num = np.array([1, 2, 3, 4, 5, 6, 7, 8, 9, 10])\n",
    "print (odd_num)\n",
    "\n",
    "new_list = [x for x in odd_num if x % 2 == 1] #to get all  even numbers, change == 1 to == 0\n",
    "print(new_list) \n",
    "\n",
    "# or use filter lambda method to get the same results e.g. by creating a list variable and then doing filter(lambda x:x % 2 ==1, list variable)"
   ]
  },
  {
   "cell_type": "code",
   "execution_count": 21,
   "metadata": {},
   "outputs": [
    {
     "name": "stdout",
     "output_type": "stream",
     "text": [
      "[-1  2 -1  4 -1  6 -1  8 -1 10]\n"
     ]
    }
   ],
   "source": [
    "#Replace all odd numbers in an array of 1-10 with the value -1\n",
    "replace_num = np.array([1, 2, 3, 4, 5, 6, 7, 8, 9, 10])\n",
    "\n",
    "for x in range(len(replace_num)):\n",
    "    if x % 2 != 1:\n",
    "        replace_num[x] = -1\n",
    "print(replace_num)"
   ]
  },
  {
   "cell_type": "code",
   "execution_count": 31,
   "metadata": {},
   "outputs": [
    {
     "name": "stdout",
     "output_type": "stream",
     "text": [
      "[1. 1. 1. 1.]\n",
      "[[1. 1.]\n",
      " [1. 1.]]\n"
     ]
    }
   ],
   "source": [
    "#Convert a 1D array to a 2D array with 2 rows\n",
    "Array_1D = np.ones (4)\n",
    "print(Array_1D)\n",
    "Array_2D = Array_1D.reshape(2, 2)\n",
    "print(Array_2D)\n",
    "\n",
    "\n"
   ]
  },
  {
   "cell_type": "code",
   "execution_count": 36,
   "metadata": {},
   "outputs": [
    {
     "name": "stdout",
     "output_type": "stream",
     "text": [
      "[[1 2]\n",
      " [3 4]]\n",
      "[[6 7]\n",
      " [8 9]]\n",
      "[[22 25]\n",
      " [50 57]]\n",
      "154\n"
     ]
    }
   ],
   "source": [
    "#Create two arrays a and b, stack these two arrays vertically use the np.dot and np.sum to calculate totals\n",
    "a = np.arange(1,5).reshape(2,2)\n",
    "b = np.arange(6,10).reshape(2,2)\n",
    "print(a)\n",
    "print(b)\n",
    "\n",
    "c = np.dot(a, b)\n",
    "print(c)\n",
    "\n",
    "total_sum = np.sum(c)\n",
    "print(total_sum)"
   ]
  },
  {
   "cell_type": "code",
   "execution_count": 46,
   "metadata": {},
   "outputs": [
    {
     "name": "stdout",
     "output_type": "stream",
     "text": [
      "[4, 5, 6, 7, 8, 9]\n"
     ]
    }
   ],
   "source": [
    "#Extension task \n",
    "array_4 = [1, 1, 1, 2, 2, 2, 3, 3, 3, 1, 2, 3, 1, 2, 3, 1, 2, 3,]\n",
    "a = [1,2,3,4,5]\n",
    "b = [4,5,6,7,8,9]\n",
    "\n",
    "#remove duplicates \n",
    "def remove_duplicates(duplist):\n",
    "    noduplist = []\n",
    "    for element in duplist:\n",
    "        if element not in noduplist:\n",
    "            noduplist.append (element)\n",
    "    return noduplist\n",
    "print(remove_duplicates(b))\n",
    "\n",
    "\n"
   ]
  }
 ],
 "metadata": {
  "interpreter": {
   "hash": "aee8b7b246df8f9039afb4144a1f6fd8d2ca17a180786b69acc140d282b71a49"
  },
  "kernelspec": {
   "display_name": "Python 3.10.2 64-bit",
   "language": "python",
   "name": "python3"
  },
  "language_info": {
   "codemirror_mode": {
    "name": "ipython",
    "version": 3
   },
   "file_extension": ".py",
   "mimetype": "text/x-python",
   "name": "python",
   "nbconvert_exporter": "python",
   "pygments_lexer": "ipython3",
   "version": "3.10.2"
  },
  "orig_nbformat": 4
 },
 "nbformat": 4,
 "nbformat_minor": 2
}
