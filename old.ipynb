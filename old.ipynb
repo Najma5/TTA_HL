{
 "cells": [
  {
   "cell_type": "code",
   "execution_count": null,
   "metadata": {},
   "outputs": [],
   "source": [
    "import random\n",
    "myName = input(\"Hello! What is your name?\")\n",
    "number = random.randint(1,10)\n",
    "print(\"Well,\"+myName+\"I am thinking of a number between 1 to 10\")\n",
    "guess = int(input(\"Take a guess\"))\n",
    "\n",
    "\n",
    "if guess == number:\n",
    "    print(\"Good job,\"+myName+\"! You gussed my number correctly\")\n",
    "else:\n",
    "    print(\"Wrong,better luck next time.\")\n"
   ]
  },
  {
   "cell_type": "code",
   "execution_count": 34,
   "metadata": {},
   "outputs": [
    {
     "name": "stdout",
     "output_type": "stream",
     "text": [
      "So, what is your favourite number?\n",
      "A roman soldier walks into a bar, holds up two fingers and says five beers please\n",
      "What is Serena William's favourite number? Ten is\n"
     ]
    }
   ],
   "source": [
    "favNum = random.randint(1,100)\n",
    "myN\n",
    "ame = input(\"Hello! What is your name?\")\n",
    "print(\"So, \"+myName+\"what is your favourite number?\")\n",
    "if favNum == 6:\n",
    "    print(\"why is six scared of seven? Because seven,eight,nine!\")\n",
    "elseif: favNum == 5\n",
    "print(\"A roman soldier walks into a bar, holds up two fingers and says five beers please\")\n",
    "elseif: favNum == 10\n",
    "print(\"What is Serena William's favourite number? Ten is\")\n",
    "\n"
   ]
  },
  {
   "cell_type": "code",
   "execution_count": null,
   "metadata": {},
   "outputs": [],
   "source": []
  },
  {
   "cell_type": "code",
   "execution_count": null,
   "metadata": {},
   "outputs": [],
   "source": []
  }
 ],
 "metadata": {
  "interpreter": {
   "hash": "aee8b7b246df8f9039afb4144a1f6fd8d2ca17a180786b69acc140d282b71a49"
  },
  "kernelspec": {
   "display_name": "Python 3.10.2 64-bit",
   "language": "python",
   "name": "python3"
  },
  "language_info": {
   "codemirror_mode": {
    "name": "ipython",
    "version": 3
   },
   "file_extension": ".py",
   "mimetype": "text/x-python",
   "name": "python",
   "nbconvert_exporter": "python",
   "pygments_lexer": "ipython3",
   "version": "3.10.2"
  },
  "orig_nbformat": 4
 },
 "nbformat": 4,
 "nbformat_minor": 2
}
