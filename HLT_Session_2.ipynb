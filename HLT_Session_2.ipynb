{
 "cells": [
  {
   "cell_type": "code",
   "execution_count": 35,
   "metadata": {},
   "outputs": [],
   "source": [
    "user_drink = input (\"What can I get you?\")\n",
    "user_drink= str (user_drink)"
   ]
  },
  {
   "cell_type": "code",
   "execution_count": 32,
   "metadata": {},
   "outputs": [
    {
     "name": "stdout",
     "output_type": "stream",
     "text": [
      "The value of the bike is £ 956.6\n"
     ]
    }
   ],
   "source": [
    "#bike_value = 2000\n",
    "#loss = 0.9\n",
    "\n",
    "#i = 2000\n",
    "#while i >= 1000:\n",
    "    #print (\"the value of the bike is £\", i)\n",
    "    # i = i*0.9\n",
    "    #i = round (i*0.9,2)\n",
    "\n",
    "\n",
    "def function_1 (bike_value):\n",
    "    return bike_value*0.9\n",
    "price = 2000\n",
    "while price > 1000:\n",
    "    price = function_1 (price)\n",
    "    if price <= 1000:\n",
    "        break\n",
    "print (\"The value of the bike is £\", round (price,1))\n"
   ]
  },
  {
   "cell_type": "code",
   "execution_count": 62,
   "metadata": {},
   "outputs": [
    {
     "ename": "SyntaxError",
     "evalue": "invalid syntax (992220420.py, line 45)",
     "output_type": "error",
     "traceback": [
      "\u001b[0;36m  Input \u001b[0;32mIn [62]\u001b[0;36m\u001b[0m\n\u001b[0;31m    else:\u001b[0m\n\u001b[0m    ^\u001b[0m\n\u001b[0;31mSyntaxError\u001b[0m\u001b[0;31m:\u001b[0m invalid syntax\n"
     ]
    }
   ],
   "source": [
    "user_name = input(\"Hi What's your name?\")\n",
    "User_input_1 = int(input(\"Choose a number\"))\n",
    "User_input_2 = int(input(\"Choose a second number\"))\n",
    "print(\"Hi\", user_name, \"you chose\", User_input_1 and User_input_2)\n",
    "user_cal = input(\"Enter 'A' if you want to add the numbers, enter 'B' if you want to subtract subtract, enter 'C' if you want to multiply the numbers, enter 'D' if you want to divide the numbers and enter 'E' if you want to do an exponentiation\")\n",
    "\n",
    "def procedure_1():\n",
    "    output = (User_input_1 + User_input_2)\n",
    "print (output)\n",
    "\n",
    "def procedure_2():\n",
    "    output = (User_input_1 - User_input_2)\n",
    "print (output)\n",
    "\n",
    "def procedure_3():\n",
    "    output = (User_input_1 * User_input_2)\n",
    "print (output)\n",
    "\n",
    "def procedure_4():\n",
    "    output = (User_input_1 / User_input_2)\n",
    "print (output)\n",
    "\n",
    "def procedure_5():\n",
    "    output = (User_input_1 ** User_input_2)\n",
    "\n",
    "if user_cal == 'A':\n",
    "    procedure_1()\n",
    "\n",
    "elseif \n",
    "user_cal == 'B'\n",
    "procedure_2()\n",
    "\n",
    "elseif \n",
    "user_cal == 'C'\n",
    "procedure_3()\n",
    "\n",
    "elseif \n",
    "user_cal == 'D'\n",
    "procedure_4()\n",
    "\n",
    "elseif \n",
    "user_cal == 'E'\n",
    "procedure_5()\n",
    "\n",
    "else:\n",
    "    print(\"Incorrect option selected.\")"
   ]
  },
  {
   "cell_type": "code",
   "execution_count": null,
   "metadata": {},
   "outputs": [],
   "source": []
  },
  {
   "cell_type": "code",
   "execution_count": null,
   "metadata": {},
   "outputs": [],
   "source": []
  }
 ],
 "metadata": {
  "interpreter": {
   "hash": "aee8b7b246df8f9039afb4144a1f6fd8d2ca17a180786b69acc140d282b71a49"
  },
  "kernelspec": {
   "display_name": "Python 3.10.2 64-bit",
   "language": "python",
   "name": "python3"
  },
  "language_info": {
   "codemirror_mode": {
    "name": "ipython",
    "version": 3
   },
   "file_extension": ".py",
   "mimetype": "text/x-python",
   "name": "python",
   "nbconvert_exporter": "python",
   "pygments_lexer": "ipython3",
   "version": "3.10.2"
  },
  "orig_nbformat": 4
 },
 "nbformat": 4,
 "nbformat_minor": 2
}
