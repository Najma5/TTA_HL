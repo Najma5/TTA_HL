{
 "cells": [
  {
   "cell_type": "code",
   "execution_count": 12,
   "metadata": {},
   "outputs": [
    {
     "name": "stdout",
     "output_type": "stream",
     "text": [
      "Here is your 2 chocolate brownies\n"
     ]
    }
   ],
   "source": [
    "user_input_drink = input(\"What can I get you?\")\n",
    "user_input_side= str(input(\"How many chocolate brownies would you like?\"))\n",
    "additions_ = input(\"Can I get you anything else?\")\n",
    "if additions_ == \"No\":\n",
    "    print(\"Here is your\",user_input_drink and user_input_side)"
   ]
  },
  {
   "cell_type": "code",
   "execution_count": 26,
   "metadata": {},
   "outputs": [
    {
     "name": "stdout",
     "output_type": "stream",
     "text": [
      "The value of the bike is £ 956.6\n"
     ]
    }
   ],
   "source": [
    "#bike_value = 2000\n",
    "#loss = 0.9\n",
    "\n",
    "#i = 2000\n",
    "#while i >= 1000:\n",
    "    #print (\"the value of the bike is £\", i)\n",
    "    # i = i*0.9\n",
    "    #i = round (i*0.9,2)\n",
    "\n",
    "\n",
    "def function_1 (bike_value):\n",
    "    return bike_value*0.9\n",
    "i  = 2000\n",
    "while i > 1000:\n",
    "    i = function_1(i)\n",
    "    if i <= 1000:\n",
    "        break\n",
    "print (\"The value of the bike is £\", round (i,1))\n"
   ]
  },
  {
   "cell_type": "code",
   "execution_count": 36,
   "metadata": {},
   "outputs": [
    {
     "name": "stdout",
     "output_type": "stream",
     "text": [
      "Hi Zuri you chose 3\n",
      "36\n"
     ]
    }
   ],
   "source": [
    "user_name = input(\"Hi What's your name?\")\n",
    "User_input_1 = int(input(\"Choose a number\"))\n",
    "User_input_2 = int(input(\"Choose a second number\"))\n",
    "print(\"Hi\", user_name, \"you chose\", User_input_1 and User_input_2)\n",
    "user_op = input(\"Enter an operator\")\n",
    "\n",
    "\n",
    "if user_op == \"+\": \n",
    "    print(User_input_1 + User_input_2)\n",
    "elif user_op == \"-\":\n",
    "    print(User_input_1 - User_input_2)\n",
    "elif user_op == \"/\":\n",
    "    print(User_input_1/ User_input_2)\n",
    "elif user_op == \"*\":\n",
    "    print(User_input_1 * User_input_2)\n",
    "elif user_op == \"**\":\n",
    "    print(User_input_1 * User_input_2)\n",
    "\n",
    "else:\n",
    "    print(\"Invalid operator\")\n"
   ]
  },
  {
   "cell_type": "code",
   "execution_count": null,
   "metadata": {},
   "outputs": [],
   "source": []
  },
  {
   "cell_type": "code",
   "execution_count": null,
   "metadata": {},
   "outputs": [],
   "source": []
  }
 ],
 "metadata": {
  "interpreter": {
   "hash": "aee8b7b246df8f9039afb4144a1f6fd8d2ca17a180786b69acc140d282b71a49"
  },
  "kernelspec": {
   "display_name": "Python 3.10.2 64-bit",
   "language": "python",
   "name": "python3"
  },
  "language_info": {
   "codemirror_mode": {
    "name": "ipython",
    "version": 3
   },
   "file_extension": ".py",
   "mimetype": "text/x-python",
   "name": "python",
   "nbconvert_exporter": "python",
   "pygments_lexer": "ipython3",
   "version": "3.10.2"
  },
  "orig_nbformat": 4
 },
 "nbformat": 4,
 "nbformat_minor": 2
}
